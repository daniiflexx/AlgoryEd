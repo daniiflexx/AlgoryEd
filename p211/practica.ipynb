{
 "cells": [
  {
   "cell_type": "code",
   "execution_count": 2,
   "metadata": {},
   "outputs": [
    {
     "data": {
      "text/plain": [
       "array([-1, -1, -1, -1, -1])"
      ]
     },
     "execution_count": 2,
     "metadata": {},
     "output_type": "execute_result"
    }
   ],
   "source": [
    "import numpy as np\n",
    "import sys as sys\n",
    "import itertools as it\n",
    "\n",
    "def init_cd(n: int)-> np.ndarray:\n",
    "    lst = n * [-1]\n",
    "    arr = np.array(lst)\n",
    "    return arr\n",
    "init_cd(5)"
   ]
  },
  {
   "cell_type": "code",
   "execution_count": 3,
   "metadata": {},
   "outputs": [],
   "source": [
    "def find(ind: int, p_cd: np.ndarray)-> int:\n",
    "    z = ind\n",
    "\n",
    "    while p_cd[z] > -1:\n",
    "        z = p_cd[z]\n",
    "        \n",
    "    while p_cd[ind] >-1:\n",
    "        y = p_cd[ind]\n",
    "        p_cd[ind] = z\n",
    "        ind = y\n",
    "    return z"
   ]
  },
  {
   "cell_type": "code",
   "execution_count": 4,
   "metadata": {},
   "outputs": [],
   "source": [
    "def union(rep_1: int, rep_2: int, p_cd: np.ndarray)-> int:\n",
    "    x = find(rep_1, p_cd)\n",
    "    y = find(rep_2, p_cd)\n",
    "        \n",
    "    if x == y:\n",
    "            return -1\n",
    "        \n",
    "    if p_cd[y] < p_cd[x]:      \n",
    "        p_cd[x] = y\n",
    "        rep = y  \n",
    "    elif p_cd[y] > p_cd[x]:    \n",
    "        p_cd[y] = x \n",
    "        rep = x\n",
    "    else:\n",
    "        p_cd[y] = x\n",
    "        p_cd[x] -= 1\n",
    "        rep =  x     \n",
    "    return rep"
   ]
  },
  {
   "cell_type": "code",
   "execution_count": 5,
   "metadata": {},
   "outputs": [
    {
     "name": "stdout",
     "output_type": "stream",
     "text": [
      "{0: [0, 1, 2], 3: [3, 4], 5: [5, 6]}\n",
      "{0: [0, 1, 2], 3: [3, 4], 5: [5, 6]}\n",
      "{0: [0, 1, 2], 3: [3, 4], 5: [5, 6]}\n",
      "{1: [0, 1, 2], 3: [3, 4], 5: [5, 6]}\n"
     ]
    }
   ],
   "source": [
    "def cd_2_dict(p_cd: np.ndarray)-> dict:\n",
    "    d = {}\n",
    "    for i in range(0, len(p_cd)):\n",
    "        if p_cd[i] < 0:\n",
    "            h = []\n",
    "            j = i\n",
    "            h.append(j)\n",
    "            j += 1\n",
    "            while j < len(p_cd) and p_cd[j] >= 0:\n",
    "                h.append(j)\n",
    "                j+=1\n",
    "            d[i] = h\n",
    "    return d\n",
    "\n",
    "def cd_2_dictv2(p_cd: np.ndarray)-> dict:\n",
    "    d = {}\n",
    "    i = 0\n",
    "    while i < len(p_cd):\n",
    "        if p_cd[i] < 0:\n",
    "            h = []\n",
    "            j = i\n",
    "            h.append(i)\n",
    "            i += 1\n",
    "            while i < len(p_cd) and p_cd[i] >= 0:\n",
    "                h.append(i)\n",
    "                i+=1\n",
    "            d[j] = h\n",
    "    return d\n",
    "\n",
    "def cd_2_dictv3(p_cd: np.ndarray)-> dict:\n",
    "    d = {}\n",
    "    i = 0\n",
    "    while i < len(p_cd):\n",
    "        h = []\n",
    "        j = i\n",
    "        h.append(i)\n",
    "        i += 1\n",
    "        while i < len(p_cd) and p_cd[i] >= 0:\n",
    "            h.append(i)\n",
    "            i+=1\n",
    "        d[j] = h\n",
    "    return d\n",
    "\n",
    "def cd_2_dictv4(p_cd: np.ndarray)-> dict:\n",
    "    d = {}\n",
    "    for i in range(len(p_cd)):\n",
    "        if p_cd[i] < 0:\n",
    "            d[i] = []\n",
    "        \n",
    "    for i in range(len(p_cd)):\n",
    "        aux = find(i, p_cd)\n",
    "        d[aux].append(i)\n",
    "    return d\n",
    "    \n",
    "\n",
    "\n",
    "\n",
    "d = cd_2_dict([-3, 0, 1, -2, 3, -2, 5])\n",
    "d2 = cd_2_dictv2([-3, 0, 1, -2, 3, -2, 5])\n",
    "d3 = cd_2_dictv3([-3, 0, 1, -2, 3, -2, 5])\n",
    "d4 = cd_2_dictv4([1, -2, 1, -2, 3, -2, 5])\n",
    "\n",
    "print(d)\n",
    "print(d2)\n",
    "print(d3)\n",
    "print(d4)"
   ]
  },
  {
   "cell_type": "code",
   "execution_count": 6,
   "metadata": {},
   "outputs": [
    {
     "name": "stdout",
     "output_type": "stream",
     "text": [
      "[-2  0  0  0  0  0  0]\n",
      "{0: [0, 1, 2, 3, 4, 5, 6]}\n"
     ]
    }
   ],
   "source": [
    "def ccs(n: int, l: list)-> dict:\n",
    "    cd = init_cd(n)\n",
    "    for i in l:\n",
    "        union(i[0], i[1], cd)\n",
    "    print(cd)\n",
    "    d = cd_2_dictv4(cd)\n",
    "    return d\n",
    "\n",
    "print(ccs(7, [(0, 1), (0, 3), (1, 2), (1, 4), (3, 4), (4, 5), (4, 6), (5, 6)]))"
   ]
  },
  {
   "cell_type": "code",
   "execution_count": 7,
   "metadata": {},
   "outputs": [
    {
     "data": {
      "text/plain": [
       "array([[0, 9, 4, 2],\n",
       "       [9, 0, 9, 9],\n",
       "       [4, 9, 0, 8],\n",
       "       [2, 9, 8, 0]])"
      ]
     },
     "execution_count": 7,
     "metadata": {},
     "output_type": "execute_result"
    }
   ],
   "source": [
    "def dist_matrix(n_nodes: int, w_max=10)-> np.ndarray:\n",
    "    m = np.zeros((n_nodes, n_nodes), dtype=int)\n",
    "    i = 0\n",
    "    while i < n_nodes:\n",
    "        j = i\n",
    "        while j < n_nodes:\n",
    "            if i != j:\n",
    "                m[i][j] = np.random.randint(0, w_max+1)\n",
    "                m[j][i] = m[i][j]\n",
    "            j+=1\n",
    "        i+=1\n",
    "    return(m)\n",
    "\n",
    "dist_matrix(4, 10)"
   ]
  },
  {
   "cell_type": "code",
   "execution_count": 8,
   "metadata": {},
   "outputs": [
    {
     "data": {
      "text/plain": [
       "[1, 0, 2, 3, 1]"
      ]
     },
     "execution_count": 8,
     "metadata": {},
     "output_type": "execute_result"
    }
   ],
   "source": [
    "def greedy_tsp(dist_m: np.ndarray, node_ini=0)-> list:\n",
    "    num_nodes = dist_m.shape[0]\n",
    "    circuit = [node_ini]\n",
    "    while len(circuit) < num_nodes:\n",
    "        current_city = circuit[-1]\n",
    "        options = np.argsort(dist_m[ current_city])\n",
    "        for i in options:\n",
    "            if i not in circuit:\n",
    "                circuit.append(i)\n",
    "                break\n",
    "    circuit.append(node_ini)\n",
    "    return circuit\n",
    "\n",
    "\n",
    "    \n",
    "kaka = dist_matrix(4,5)\n",
    "greedy_tsp(kaka, 1)\n",
    "\n",
    "    "
   ]
  },
  {
   "cell_type": "code",
   "execution_count": 9,
   "metadata": {},
   "outputs": [
    {
     "data": {
      "text/plain": [
       "14"
      ]
     },
     "execution_count": 9,
     "metadata": {},
     "output_type": "execute_result"
    }
   ],
   "source": [
    "def len_circuit(circuit: list, dist_m: np.ndarray)-> int:\n",
    "    i = 0\n",
    "    longitud = 0\n",
    "    while (i < len(circuit) - 1):\n",
    "        longitud += dist_m[circuit[i]][circuit[i+1]]\n",
    "        i+=1\n",
    "    return longitud\n",
    "\n",
    "len_circuit([2, 3, 0, 1, 2], [[ 0, 1,  9,  1], [1,  0,  10,  6],[9,  10,  0,  2],[1,  6,  2,  0]])"
   ]
  },
  {
   "cell_type": "code",
   "execution_count": 10,
   "metadata": {},
   "outputs": [],
   "source": [
    "def repeated_greedy_tsp(dist_m: np.ndarray)-> list:\n",
    "    num_nodes = dist_m.shape[0]\n",
    "    i = 0\n",
    "    longitud = sys.maxsize\n",
    "    while i < num_nodes:\n",
    "        circuit = greedy_tsp(dist_m, i)\n",
    "        aux = len_circuit(circuit, dist_m)\n",
    "        print(circuit)\n",
    "        print(aux)\n",
    "        if aux < longitud:\n",
    "            longitud = aux\n",
    "            circuito = circuit\n",
    "        i+=1\n",
    "    return circuito"
   ]
  },
  {
   "cell_type": "code",
   "execution_count": 11,
   "metadata": {},
   "outputs": [
    {
     "name": "stdout",
     "output_type": "stream",
     "text": [
      "[0, 6, 3, 1, 2, 7, 4, 5, 8, 0]\n",
      "20\n",
      "[1, 2, 7, 4, 5, 8, 6, 0, 3, 1]\n",
      "15\n",
      "[2, 1, 3, 6, 0, 5, 4, 7, 8, 2]\n",
      "21\n",
      "[3, 1, 2, 7, 4, 5, 8, 6, 0, 3]\n",
      "15\n",
      "[4, 5, 7, 2, 1, 3, 6, 0, 8, 4]\n",
      "20\n",
      "[5, 4, 7, 2, 1, 3, 6, 0, 8, 5]\n",
      "20\n",
      "[6, 0, 1, 2, 7, 4, 5, 8, 3, 6]\n",
      "22\n",
      "[7, 4, 5, 8, 6, 0, 1, 2, 3, 7]\n",
      "22\n",
      "[8, 4, 5, 7, 2, 1, 3, 6, 0, 8]\n",
      "20\n"
     ]
    },
    {
     "data": {
      "text/plain": [
       "[1, 2, 7, 4, 5, 8, 6, 0, 3, 1]"
      ]
     },
     "execution_count": 11,
     "metadata": {},
     "output_type": "execute_result"
    }
   ],
   "source": [
    "repeated_greedy_tsp(dist_matrix(9, 10))"
   ]
  },
  {
   "cell_type": "code",
   "execution_count": 98,
   "metadata": {},
   "outputs": [],
   "source": [
    "def exhaustive_tsp(dist_m: np.ndarray)-> list:\n",
    "    circuito = []\n",
    "    size = dist_m.shape[0]\n",
    "    p = it.permutations(list(range(size)))\n",
    "    longitud = sys.maxsize\n",
    "    # for circuit in p:\n",
    "    #     circuit = list(circuit)\n",
    "    #     circuit.append(circuit[0])\n",
    "    for circuit in p:\n",
    "        print(\"hola\")\n",
    "        aux = len_circuit(circuit, dist_m)\n",
    "        if aux < longitud:\n",
    "            longitud = aux\n",
    "            circuito = list(circuit)\n",
    "    return circuito"
   ]
  },
  {
   "cell_type": "code",
   "execution_count": 99,
   "metadata": {},
   "outputs": [
    {
     "data": {
      "text/plain": [
       "[]"
      ]
     },
     "execution_count": 99,
     "metadata": {},
     "output_type": "execute_result"
    }
   ],
   "source": [
    "exhaustive_tsp(dist_matrix(5, 10))"
   ]
  }
 ],
 "metadata": {
  "kernelspec": {
   "display_name": "Python 3.10.4 64-bit",
   "language": "python",
   "name": "python3"
  },
  "language_info": {
   "codemirror_mode": {
    "name": "ipython",
    "version": 3
   },
   "file_extension": ".py",
   "mimetype": "text/x-python",
   "name": "python",
   "nbconvert_exporter": "python",
   "pygments_lexer": "ipython3",
   "version": "3.10.4"
  },
  "orig_nbformat": 4,
  "vscode": {
   "interpreter": {
    "hash": "916dbcbb3f70747c44a77c7bcd40155683ae19c65e1c03b4aa3499c5328201f1"
   }
  }
 },
 "nbformat": 4,
 "nbformat_minor": 2
}
