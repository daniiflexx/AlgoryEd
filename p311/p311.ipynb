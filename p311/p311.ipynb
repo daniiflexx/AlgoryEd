{
 "cells": [
  {
   "cell_type": "code",
   "execution_count": 13,
   "metadata": {},
   "outputs": [],
   "source": [
    "import numpy as np\n",
    "import itertools\n",
    "from typing import List, Tuple, Union, Dict, Callable, Iterable\n"
   ]
  },
  {
   "cell_type": "code",
   "execution_count": 124,
   "metadata": {},
   "outputs": [],
   "source": [
    "def split(t: np.ndarray)-> tuple[np.ndarray, int, np.ndarray]:\n",
    "    menores = np.array([], dtype=int)\n",
    "    mayores = np.array([], dtype=int)\n",
    "    for i in t:\n",
    "        if i < t[0]:\n",
    "            menores = np.append(menores, i)\n",
    "        else:\n",
    "            mayores = np.append(mayores, i)\n",
    "    return menores, t[0], mayores\n",
    "    "
   ]
  },
  {
   "cell_type": "code",
   "execution_count": 82,
   "metadata": {},
   "outputs": [
    {
     "data": {
      "text/plain": [
       "(array([2, 1, 2]), 2, array([3, 4, 5, 6]))"
      ]
     },
     "execution_count": 82,
     "metadata": {},
     "output_type": "execute_result"
    }
   ],
   "source": [
    "split([2,1,2,3,4,5,6])"
   ]
  },
  {
   "cell_type": "code",
   "execution_count": 127,
   "metadata": {},
   "outputs": [],
   "source": [
    "def qsel(t: np.ndarray, k: int)-> Union[int, None]:\n",
    "    menores = np.array([])\n",
    "    mayores = np.array([])\n",
    "    menores, m, mayores = split(t)\n",
    "    leng = len(menores)\n",
    "    if leng == k:\n",
    "        return m\n",
    "    elif leng > k:\n",
    "        return qsel(menores, k)\n",
    "    else:\n",
    "        return qsel(mayores, k - leng - 1)\n",
    "\n"
   ]
  },
  {
   "cell_type": "code",
   "execution_count": 126,
   "metadata": {},
   "outputs": [
    {
     "data": {
      "text/plain": [
       "4"
      ]
     },
     "execution_count": 126,
     "metadata": {},
     "output_type": "execute_result"
    }
   ],
   "source": [
    "qsel([5,4,23,64,78, 3,577], 1)"
   ]
  }
 ],
 "metadata": {
  "kernelspec": {
   "display_name": "Python 3.10.4 64-bit",
   "language": "python",
   "name": "python3"
  },
  "language_info": {
   "codemirror_mode": {
    "name": "ipython",
    "version": 3
   },
   "file_extension": ".py",
   "mimetype": "text/x-python",
   "name": "python",
   "nbconvert_exporter": "python",
   "pygments_lexer": "ipython3",
   "version": "3.10.4"
  },
  "orig_nbformat": 4,
  "vscode": {
   "interpreter": {
    "hash": "916dbcbb3f70747c44a77c7bcd40155683ae19c65e1c03b4aa3499c5328201f1"
   }
  }
 },
 "nbformat": 4,
 "nbformat_minor": 2
}
