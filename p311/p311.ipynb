{
 "cells": [
  {
   "cell_type": "code",
   "execution_count": 15,
   "metadata": {},
   "outputs": [],
   "source": [
    "import time\n",
    "import numpy as np\n",
    "import itertools\n",
    "import matplotlib.pyplot as plt\n",
    "from typing import List, Tuple, Dict, Callable, Iterable, Union\n",
    "from sklearn.linear_model import LinearRegression"
   ]
  },
  {
   "cell_type": "code",
   "execution_count": 30,
   "metadata": {},
   "outputs": [],
   "source": [
    "def split(t: List) -> tuple[List, int, List]:\n",
    "    \"\"\" Función que devuelve una tupla con las listas de elementos menores y mayores que el pivote, además del pivote\n",
    "    Args:\n",
    "        t (List): lista con la tabla original\n",
    "    Returns: \n",
    "        tuple[List, int, List]: lista de menores, el pivote, lista de mayores\n",
    "    \"\"\"\n",
    "    mid = t[0]\n",
    "    t_l = [u for u in t if u < mid]\n",
    "    t_r = [u for u in t if u > mid]\n",
    "    return (t_l, mid, t_r)"
   ]
  },
  {
   "cell_type": "code",
   "execution_count": 17,
   "metadata": {},
   "outputs": [],
   "source": [
    "def qsel(t: np.ndarray, k: int)-> Union[int, None]:\n",
    "    if k >= len(t) or k < 0:\n",
    "        return\n",
    "    if len(t) == 1 and k == 0:\n",
    "        return t[0]\n",
    "\n",
    "    t_l, mid, t_r = split(t)\n",
    "    m = len(t_l)\n",
    "    if k == m:\n",
    "        return mid\n",
    "    elif k < m:\n",
    "        return qsel(t_l, k)\n",
    "    else:\n",
    "        return qsel(t_r, k-m-1)"
   ]
  },
  {
   "cell_type": "code",
   "execution_count": 18,
   "metadata": {},
   "outputs": [],
   "source": [
    "def qsel_nr(t: np.ndarray, k: int)-> Union[int, None]:\n",
    "    tt = t.copy()\n",
    "    while len(tt) > 0:\n",
    "        if len(tt) == 1 and k == 0:\n",
    "            return tt[0]\n",
    "        t_l, mid, t_r = split(tt)\n",
    "        m = len(t_l)\n",
    "        if k == m:\n",
    "            return mid\n",
    "        elif k < m:\n",
    "            tt = t_l\n",
    "        else:\n",
    "            tt = t_r\n",
    "            k = k-m-1\n",
    "    return"
   ]
  },
  {
   "cell_type": "code",
   "execution_count": 19,
   "metadata": {},
   "outputs": [
    {
     "name": "stdout",
     "output_type": "stream",
     "text": [
      "0 0\n",
      "0 0\n",
      "1 1\n",
      "1 1\n",
      "2 2\n",
      "2 2\n",
      "3 3\n",
      "3 3\n",
      "4 4\n",
      "4 4\n",
      "5 5\n",
      "5 5\n",
      "6 6\n",
      "6 6\n",
      "7 7\n",
      "7 7\n",
      "8 8\n",
      "8 8\n",
      "9 9\n",
      "9 9\n",
      "10 10\n",
      "10 10\n"
     ]
    }
   ],
   "source": [
    "t = list(range(11))[ : : -1]\n",
    "t = np.random.permutation(11)\n",
    "shift = 0\n",
    "for k in range(len(t)):\n",
    "    print(k, qsel(t, k+shift))\n",
    "    print(k, qsel_nr(t, k+shift)) "
   ]
  },
  {
   "cell_type": "code",
   "execution_count": 20,
   "metadata": {},
   "outputs": [],
   "source": [
    "def split_pivot(t: np.ndarray, mid: int)-> Tuple[np.ndarray, int, np.ndarray]:\n",
    "    s1 = [i for i in t if i < mid]\n",
    "    s2 = [i for i in t if i > mid]\n",
    "    return (s1, mid, s2)"
   ]
  },
  {
   "cell_type": "code",
   "execution_count": 21,
   "metadata": {},
   "outputs": [
    {
     "name": "stdout",
     "output_type": "stream",
     "text": [
      "[ 0  2  9  3 10  6  8  4  7  5  1]\n"
     ]
    },
    {
     "data": {
      "text/plain": [
       "([0, 2, 3, 6, 4, 5, 1], 7, [9, 10, 8])"
      ]
     },
     "execution_count": 21,
     "metadata": {},
     "output_type": "execute_result"
    }
   ],
   "source": [
    "t = list(range(11))[ : : -1]\n",
    "t = np.random.permutation(11)\n",
    "sp=split_pivot(t, 7)\n",
    "print(t)\n",
    "sp"
   ]
  },
  {
   "cell_type": "code",
   "execution_count": 22,
   "metadata": {},
   "outputs": [],
   "source": [
    "def pivot5(t: np.ndarray)-> int:\n",
    "    if len(t) > 5:\n",
    "        group_size = 5\n",
    "        n_group = len(t) // group_size\n",
    "        index_median = group_size // 2 \n",
    "        \n",
    "        sublists =  [t[j:j+ group_size] for j in range(0, len(t), group_size)][:n_group]\n",
    "        \n",
    "        medians = [sorted(sub)[index_median] for sub in sublists]\n",
    "        \n",
    "        if len(medians)%2 == 0:\n",
    "            pivot = sorted(medians)[len(medians)//2-1]\n",
    "        else:\n",
    "            pivot = sorted(medians)[len(medians)//2]\n",
    "            \n",
    "        return pivot\n",
    "    else:\n",
    "        return np.sort(t)[len(t)//2]"
   ]
  },
  {
   "cell_type": "code",
   "execution_count": 23,
   "metadata": {},
   "outputs": [],
   "source": [
    "def qsel5_nr(t: np.ndarray, k: int)-> Union[int, None]:\n",
    "    if k >= len(t) or k < 0:\n",
    "        return\n",
    "    \n",
    "    tt = t.copy()\n",
    "    while len(tt) > 5:\n",
    "\n",
    "        mid = pivot5(np.array(tt))\n",
    "\n",
    "        t_l, mid, t_r = split_pivot(tt, mid)\n",
    "        m = len(t_l)\n",
    "\n",
    "        if k == m:\n",
    "            return mid\n",
    "        elif k < m:\n",
    "            tt = t_l\n",
    "        else:\n",
    "            tt = t_r\n",
    "            k = k-m-1\n",
    "    if len(tt) <= 5:\n",
    "        return int(np.sort(tt)[k])"
   ]
  },
  {
   "cell_type": "code",
   "execution_count": 24,
   "metadata": {},
   "outputs": [
    {
     "name": "stdout",
     "output_type": "stream",
     "text": [
      "0 0\n",
      "1 1\n",
      "2 2\n",
      "3 3\n",
      "4 4\n",
      "5 5\n",
      "6 6\n",
      "7 7\n",
      "8 8\n",
      "9 9\n",
      "10 10\n"
     ]
    }
   ],
   "source": [
    "t = list(range(11))[ : : -1]\n",
    "t = np.random.permutation(11)\n",
    "shift = 0\n",
    "for k in range(len(t)):\n",
    "    print(k, qsel5_nr(t, k+shift)) "
   ]
  },
  {
   "cell_type": "code",
   "execution_count": 25,
   "metadata": {},
   "outputs": [],
   "source": [
    "def qsort_5(t: np.ndarray)-> np.ndarray:\n",
    "    \n",
    "    if t is None:\n",
    "        return None\n",
    "\n",
    "    if len(t) == 0:\n",
    "        return np.array([])\n",
    "    \n",
    "    x = t.copy()\n",
    "    mid = pivot5(np.array(x))\n",
    "\n",
    "    t_left, mid, t_right = split_pivot(x, mid)\n",
    "\n",
    "    if len(t_left) > 1:\n",
    "        t_left = qsort_5(t_left)\n",
    "    if len(t_right) > 1:\n",
    "        t_right = qsort_5(t_right)\n",
    "\n",
    "    t_left = np.append(t_left, np.array([mid]))\n",
    "\n",
    "    return np.append(t_left, t_right)"
   ]
  },
  {
   "cell_type": "code",
   "execution_count": 26,
   "metadata": {},
   "outputs": [],
   "source": [
    "def fit_func_2_times(timings: np.ndarray, func_2_fit: Callable):\n",
    "    if len(timings.shape) == 1:\n",
    "        timings = timings.reshape(-1, 1)\n",
    "    values = func_2_fit(timings[ :, 0]).reshape(-1, 1)\n",
    "\n",
    "    times = timings[ : , 1] / timings[0, 1]\n",
    "\n",
    "    lr_m = LinearRegression()\n",
    "    lr_m.fit(values, times)\n",
    "    return lr_m.predict(values)\n",
    "\n",
    "def n_logn(n):\n",
    "    return n*np.log(n)"
   ]
  },
  {
   "cell_type": "code",
   "execution_count": 27,
   "metadata": {},
   "outputs": [
    {
     "name": "stdout",
     "output_type": "stream",
     "text": [
      "50\n",
      "100\n",
      "150\n",
      "200\n",
      "250\n",
      "300\n",
      "350\n",
      "400\n",
      "450\n",
      "500\n",
      "550\n",
      "600\n",
      "650\n",
      "700\n",
      "750\n",
      "800\n",
      "850\n",
      "900\n",
      "950\n",
      "1000\n",
      "[[5.00000000e+01 9.51234800e-04]\n",
      " [1.00000000e+02 1.23122740e-03]\n",
      " [1.50000000e+02 1.80460820e-03]\n",
      " [2.00000000e+02 2.43365240e-03]\n",
      " [2.50000000e+02 3.07950040e-03]\n",
      " [3.00000000e+02 3.72256860e-03]\n",
      " [3.50000000e+02 4.47133420e-03]\n",
      " [4.00000000e+02 5.16014860e-03]\n",
      " [4.50000000e+02 5.75337820e-03]\n",
      " [5.00000000e+02 6.49671020e-03]\n",
      " [5.50000000e+02 7.17094140e-03]\n",
      " [6.00000000e+02 8.10428300e-03]\n",
      " [6.50000000e+02 8.78995440e-03]\n",
      " [7.00000000e+02 9.50455380e-03]\n",
      " [7.50000000e+02 1.00078982e-02]\n",
      " [8.00000000e+02 1.07813876e-02]\n",
      " [8.50000000e+02 1.17882158e-02]\n",
      " [9.00000000e+02 1.23235194e-02]\n",
      " [9.50000000e+02 1.29930436e-02]\n",
      " [1.00000000e+03 1.35813844e-02]]\n"
     ]
    },
    {
     "data": {
      "image/png": "[encoded data removed]",
      "text/plain": [
       "<Figure size 640x480 with 1 Axes>"
      ]
     },
     "metadata": {},
     "output_type": "display_data"
    }
   ],
   "source": [
    "l_times_qs=[]\n",
    "\n",
    "for i in range(50, 1001, 50):\n",
    "    print (i)\n",
    "    t=np.random.permutation(i).astype(int)\n",
    "    timings= %timeit -n 5 -r 5 -o -q qsort_5(t)\n",
    "    l_times_qs.append([len(t), timings.best])\n",
    "\n",
    "a_timings=np.array(l_times_qs)\n",
    "print(a_timings)\n",
    "\n",
    "fitted_timings=fit_func_2_times(a_timings, n_logn)\n",
    "\n",
    "_=plt.plot(a_timings[ : , 0], a_timings[ : , 1]/a_timings[0 , 1], '*', a_timings[ : , 0], fitted_timings, '-')\n",
    "\n",
    "\n"
   ]
  },
  {
   "cell_type": "code",
   "execution_count": null,
   "metadata": {},
   "outputs": [],
   "source": [
    "def edit_distance(str_1: str, str_2: str)-> int:\n",
    "\tn_rows, n_columns = 1+len(str_1), 1+len(str_2)\n",
    "\n",
    "\tdist_matrix = np.zeros((n_rows, n_columns)).astype(int)\n",
    "\tdist_matrix[0] = np.arange(n_columns).astype(int)\n",
    "\tdist_matrix[ : , 0] = np.arange(n_rows).astype(int)\n",
    "\n",
    "\tfor i in range(1, n_rows):\n",
    "\t\tfor j in range(1, n_columns):\n",
    "\t\t\tif str_1[i-1] == str_2[j-1]:\n",
    "\t\t\t\tdist_matrix[i, j] = dist_matrix[i-1, j-1]\n",
    "\t\t\telse:\n",
    "\t\t\t\tdist_matrix[i, j] = 1 + min(dist_matrix[i-1, j-1], dist_matrix[i-1, j], dist_matrix[i, j-1])\n",
    "\n",
    "\treturn dist_matrix[n_rows - 1][n_columns - 1]"
   ]
  },
  {
   "cell_type": "code",
   "execution_count": null,
   "metadata": {},
   "outputs": [],
   "source": [
    "print(edit_distance(\"marcos\", \"raul\"))"
   ]
  },
  {
   "cell_type": "code",
   "execution_count": null,
   "metadata": {},
   "outputs": [],
   "source": [
    "def max_subsequence_length(str_1: str, str_2: str)-> int:\n",
    "\te = np.zeros((len(str_1)+1, len(str_2)+1), dtype=int)\n",
    "    \n",
    "\tfor i in range(1, len(str_1)+1):\n",
    "\t\tfor j in range(1, len(str_2)+1):\n",
    "\t\t\tif (str_1[i-1] == str_2[j-1]):\n",
    "\t\t\t\te[i,j] = 1 + e[i-1, j-1]    \n",
    "\t\t\telse :\n",
    "\t\t\t\te[i, j] = max(e[i-1, j], e[i, j-1])\n",
    "\treturn e[len(str_1), len(str_2)]"
   ]
  },
  {
   "cell_type": "code",
   "execution_count": null,
   "metadata": {},
   "outputs": [],
   "source": [
    "print(max_subsequence_length(\"marcos\", \"raul\"))"
   ]
  },
  {
   "cell_type": "code",
   "execution_count": null,
   "metadata": {},
   "outputs": [],
   "source": [
    "def max_common_subsequence(str_1: str, str_2: str)-> str:\n",
    "\te = np.zeros((len(str_1)+1, len(str_2)+1), dtype=int)\n",
    "\tword = \"\"\n",
    "\tz = 0\n",
    "    \n",
    "\tfor i in range(1, len(str_1)+1):\n",
    "\t\tfor j in range(1, len(str_2)+1):\n",
    "\t\t\tif (str_1[i-1] == str_2[j-1]):\n",
    "\t\t\t\tif e[i-1, j-1] == z:\n",
    "\t\t\t\t\tz += 1\n",
    "\t\t\t\t\tword += str_1[i-1]\n",
    "\t\t\t\te[i,j] = 1 + e[i-1, j-1]    \n",
    "\t\t\telse :\n",
    "\t\t\t\te[i, j] = max(e[i-1, j], e[i, j-1])\n",
    "\treturn word"
   ]
  },
  {
   "cell_type": "code",
   "execution_count": null,
   "metadata": {},
   "outputs": [],
   "source": [
    "print(max_common_subsequence(\"abcde\", \"ace\"))"
   ]
  }
 ],
 "metadata": {
  "kernelspec": {
   "display_name": "Python 3",
   "language": "python",
   "name": "python3"
  },
  "language_info": {
   "codemirror_mode": {
    "name": "ipython",
    "version": 3
   },
   "file_extension": ".py",
   "mimetype": "text/x-python",
   "name": "python",
   "nbconvert_exporter": "python",
   "pygments_lexer": "ipython3",
   "version": "3.10.6 (main, Nov 14 2022, 16:10:14) [GCC 11.3.0]"
  },
  "orig_nbformat": 4,
  "vscode": {
   "interpreter": {
    "hash": "916dbcbb3f70747c44a77c7bcd40155683ae19c65e1c03b4aa3499c5328201f1"
   }
  }
 },
 "nbformat": 4,
 "nbformat_minor": 2
}
