{
 "cells": [
  {
   "cell_type": "code",
   "execution_count": 1,
   "metadata": {},
   "outputs": [],
   "source": [
    "import time\n",
    "import numpy as np\n",
    "import itertools\n",
    "import matplotlib.pyplot as plt\n",
    "from typing import List, Tuple, Dict, Callable, Iterable\n",
    "\n",
    "from typing import List, Tuple, Dict, Callable, Union\n"
   ]
  },
  {
   "cell_type": "code",
   "execution_count": 2,
   "metadata": {},
   "outputs": [],
   "source": [
    "def split(t: List) -> tuple[List, int, List]:\n",
    "    mid = t[0]\n",
    "    t_l = [u for u in t if u < mid]\n",
    "    t_r = [u for u in t if u > mid]\n",
    "    return (t_l, mid, t_r)"
   ]
  },
  {
   "cell_type": "code",
   "execution_count": 3,
   "metadata": {},
   "outputs": [],
   "source": [
    "def qsel(t: np.ndarray, k: int)-> Union[int, None]:\n",
    "    if k >= len(t) or k < 0:\n",
    "        return\n",
    "    if len(t) == 1 and k == 0:\n",
    "        return t[0]\n",
    "\n",
    "    t_l, mid, t_r = split(t)\n",
    "    m = len(t_l)\n",
    "    if k == m:\n",
    "        return mid\n",
    "    elif k < m:\n",
    "        return qsel(t_l, k)\n",
    "    else:\n",
    "        return qsel(t_r, k-m-1)"
   ]
  },
  {
   "cell_type": "code",
   "execution_count": 4,
   "metadata": {},
   "outputs": [],
   "source": [
    "def qsel_nr(t: np.ndarray, k: int)-> Union[int, None]:\n",
    "    tt = t.copy()\n",
    "    while len(tt) > 0:\n",
    "        if len(tt) == 1 and k == 0:\n",
    "            return tt[0]\n",
    "        t_l, mid, t_r = split(tt)\n",
    "        m = len(t_l)\n",
    "        if k == m:\n",
    "            return mid\n",
    "        elif k < m:\n",
    "            tt = t_l\n",
    "        else:\n",
    "            tt = t_r\n",
    "            k = k-m-1\n",
    "    return"
   ]
  },
  {
   "cell_type": "code",
   "execution_count": 5,
   "metadata": {},
   "outputs": [
    {
     "name": "stdout",
     "output_type": "stream",
     "text": [
      "0 0\n",
      "0 0\n",
      "1 1\n",
      "1 1\n",
      "2 2\n",
      "2 2\n",
      "3 3\n",
      "3 3\n",
      "4 4\n",
      "4 4\n",
      "5 5\n",
      "5 5\n",
      "6 6\n",
      "6 6\n",
      "7 7\n",
      "7 7\n",
      "8 8\n",
      "8 8\n",
      "9 9\n",
      "9 9\n",
      "10 10\n",
      "10 10\n"
     ]
    }
   ],
   "source": [
    "t = list(range(11))[ : : -1]\n",
    "t = np.random.permutation(11)\n",
    "shift = 0\n",
    "for k in range(len(t)):\n",
    "    print(k, qsel(t, k+shift))\n",
    "    print(k, qsel_nr(t, k+shift)) "
   ]
  },
  {
   "cell_type": "code",
   "execution_count": 6,
   "metadata": {},
   "outputs": [],
   "source": [
    "def split_pivot(t: np.ndarray, mid: int)-> Tuple[np.ndarray, int, np.ndarray]:\n",
    "    s1 = [i for i in t if i < mid]\n",
    "    s2 = [i for i in t if i > mid]\n",
    "    return (s1, mid, s2)"
   ]
  },
  {
   "cell_type": "code",
   "execution_count": 7,
   "metadata": {},
   "outputs": [
    {
     "name": "stdout",
     "output_type": "stream",
     "text": [
      "[ 9  4  6  8  3  0 10  1  7  2  5]\n"
     ]
    },
    {
     "data": {
      "text/plain": [
       "([4, 6, 3, 0, 1, 2, 5], 7, [9, 8, 10])"
      ]
     },
     "execution_count": 7,
     "metadata": {},
     "output_type": "execute_result"
    }
   ],
   "source": [
    "t = list(range(11))[ : : -1]\n",
    "t = np.random.permutation(11)\n",
    "sp=split_pivot(t, 7)\n",
    "print(t)\n",
    "sp"
   ]
  },
  {
   "cell_type": "code",
   "execution_count": 8,
   "metadata": {},
   "outputs": [],
   "source": [
    "def pivot5(t: np.ndarray)-> int:\n",
    "    if len(t) > 5:\n",
    "        group_size = 5\n",
    "        n_group = len(t) // group_size\n",
    "        index_median = group_size // 2 \n",
    "        \n",
    "        sublists =  [t[j:j+ group_size] for j in range(0, len(t), group_size)][:n_group]\n",
    "        \n",
    "        medians = [sorted(sub)[index_median] for sub in sublists]\n",
    "        \n",
    "        if len(medians)%2 == 0:\n",
    "            pivot = sorted(medians)[len(medians)//2-1]\n",
    "        else:\n",
    "            pivot = sorted(medians)[len(medians)//2]\n",
    "            \n",
    "        return pivot\n",
    "    else:\n",
    "        return np.sort(t)[len(t)//2]"
   ]
  },
  {
   "cell_type": "code",
   "execution_count": 9,
   "metadata": {},
   "outputs": [],
   "source": [
    "def qsel5_nr(t: np.ndarray, k: int)-> Union[int, None]:\n",
    "    if k >= len(t) or k < 0:\n",
    "        return\n",
    "    \n",
    "    tt = t.copy()\n",
    "    while len(tt) > 5:\n",
    "\n",
    "        mid = pivot5(np.array(tt))\n",
    "\n",
    "        t_l, mid, t_r = split_pivot(tt, mid)\n",
    "        m = len(t_l)\n",
    "\n",
    "        if k == m:\n",
    "            return mid\n",
    "        elif k < m:\n",
    "            tt = t_l\n",
    "        else:\n",
    "            tt = t_r\n",
    "            k = k-m-1\n",
    "    if len(tt) <= 5:\n",
    "        return int(np.sort(tt)[k])"
   ]
  },
  {
   "cell_type": "code",
   "execution_count": 10,
   "metadata": {},
   "outputs": [
    {
     "name": "stdout",
     "output_type": "stream",
     "text": [
      "0 0\n",
      "1 1\n",
      "2 2\n",
      "3 3\n",
      "4 4\n",
      "5 5\n",
      "6 6\n",
      "7 7\n",
      "8 8\n",
      "9 9\n",
      "10 10\n"
     ]
    }
   ],
   "source": [
    "t = list(range(11))[ : : -1]\n",
    "t = np.random.permutation(11)\n",
    "shift = 0\n",
    "for k in range(len(t)):\n",
    "    print(k, qsel5_nr(t, k+shift)) "
   ]
  },
  {
   "cell_type": "code",
   "execution_count": 11,
   "metadata": {},
   "outputs": [],
   "source": [
    "def qsort_5(t: np.ndarray)-> np.ndarray:\n",
    "    \n",
    "    if t is None:\n",
    "        return None\n",
    "\n",
    "    if len(t) == 0:\n",
    "        return np.array([])\n",
    "    \n",
    "    x = t.copy()\n",
    "    mid = pivot5(np.array(x))\n",
    "\n",
    "    t_left, mid, t_right = split_pivot(x, mid)\n",
    "\n",
    "    if len(t_left) > 1:\n",
    "        t_left = qsort_5(t_left)\n",
    "    if len(t_right) > 1:\n",
    "        t_right = qsort_5(t_right)\n",
    "\n",
    "    t_left = np.append(t_left, np.array([mid]))\n",
    "\n",
    "    return np.append(t_left, t_right)"
   ]
  },
  {
   "cell_type": "code",
   "execution_count": 15,
   "metadata": {},
   "outputs": [
    {
     "name": "stdout",
     "output_type": "stream",
     "text": [
      "[2 6 0 1 5 3 4]\n",
      "71.2 µs ± 1.42 µs per loop (mean ± std. dev. of 7 runs, 10,000 loops each)\n",
      "None\n"
     ]
    }
   ],
   "source": [
    "t = np.random.permutation(7)\n",
    "print (t)\n",
    "%timeit for _ in qsort_5(t): True\n",
    "print(var)\n"
   ]
  }
 ],
 "metadata": {
  "kernelspec": {
   "display_name": "base",
   "language": "python",
   "name": "python3"
  },
  "language_info": {
   "codemirror_mode": {
    "name": "ipython",
    "version": 3
   },
   "file_extension": ".py",
   "mimetype": "text/x-python",
   "name": "python",
   "nbconvert_exporter": "python",
   "pygments_lexer": "ipython3",
   "version": "3.9.13"
  },
  "orig_nbformat": 4,
  "vscode": {
   "interpreter": {
    "hash": "4fa858a660608a5427c6e4315c5cd496ea49915164dc31e9a48053b760c62cb5"
   }
  }
 },
 "nbformat": 4,
 "nbformat_minor": 2
}
